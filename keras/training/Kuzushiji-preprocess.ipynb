{
 "cells": [
  {
   "cell_type": "code",
   "execution_count": 170,
   "metadata": {},
   "outputs": [],
   "source": [
    "library(R.utils)\n",
    "library(keras)  # FashionMNIST dataset\n",
    "library(nnet)  # Neural networks"
   ]
  },
  {
   "cell_type": "markdown",
   "metadata": {},
   "source": [
    "# Dataset"
   ]
  },
  {
   "cell_type": "markdown",
   "metadata": {},
   "source": [
    "We're going to use the Kuzushiji dataset which is a dataset that \n",
    "contains 60000 training images and 10000 testing images in grayscale (one \n",
    "channel) and of size 28x28. Kuzushiji comes in MNIST original format (packed byte-encoded images), so we need a special function to read it."
   ]
  },
  {
   "cell_type": "code",
   "execution_count": 9,
   "metadata": {},
   "outputs": [
    {
     "ename": "ERROR",
     "evalue": "Error in decompressFile.default(filename = filename, ..., ext = ext, FUN = FUN): No such file: kuzushiji/t10k-labels-idx1-ubyte.gz\n",
     "output_type": "error",
     "traceback": [
      "Error in decompressFile.default(filename = filename, ..., ext = ext, FUN = FUN): No such file: kuzushiji/t10k-labels-idx1-ubyte.gz\nTraceback:\n",
      "1. gunzip(\"kuzushiji/t10k-labels-idx1-ubyte.gz\")",
      "2. gunzip.default(\"kuzushiji/t10k-labels-idx1-ubyte.gz\")",
      "3. decompressFile(filename = filename, ..., ext = ext, FUN = FUN)",
      "4. decompressFile.default(filename = filename, ..., ext = ext, FUN = FUN)",
      "5. stop(\"No such file: \", filename)"
     ]
    }
   ],
   "source": [
    "gunzip('kuzushiji/train-images-idx3-ubyte.gz')\n",
    "gunzip('kuzushiji/t10k-images-idx3-ubyte.gz')\n",
    "gunzip('kuzushiji/train-labels-idx1-ubyte.gz')\n",
    "gunzip('kuzushiji/t10k-labels-idx1-ubyte.gz')"
   ]
  },
  {
   "cell_type": "markdown",
   "metadata": {},
   "source": [
    "Now we define some auxiliary functions for loading this dataset.\n",
    "The dataset comes in a binary form. Details about the format can be found on\n",
    "Yann LeCun's website http://yann.lecun.com/exdb/mnist/"
   ]
  },
  {
   "cell_type": "code",
   "execution_count": 11,
   "metadata": {},
   "outputs": [],
   "source": [
    "load_image_file <- function(filename) {\n",
    "  ret = list()\n",
    "  f = file(filename,'rb')\n",
    "  readBin(f,'integer',n=1,size=4,endian='big')\n",
    "  ret$n = readBin(f,'integer',n=1,size=4,endian='big')\n",
    "  nrow = readBin(f,'integer',n=1,size=4,endian='big')\n",
    "  ncol = readBin(f,'integer',n=1,size=4,endian='big')\n",
    "  x = readBin(f,'integer',n=ret$n*nrow*ncol,size=1,signed=F)\n",
    "  ret$x = matrix(x, ncol=nrow*ncol, byrow=T)\n",
    "  close(f)\n",
    "  ret\n",
    "}\n",
    "\n",
    "load_label_file <- function(filename) {\n",
    "  f = file(filename,'rb')\n",
    "  readBin(f,'integer',n=1,size=4,endian='big')\n",
    "  n = readBin(f,'integer',n=1,size=4,endian='big')\n",
    "  y = readBin(f,'integer',n=n,size=1,signed=F)\n",
    "  close(f)\n",
    "  y\n",
    "}"
   ]
  },
  {
   "cell_type": "markdown",
   "metadata": {},
   "source": [
    "Loading train and test images"
   ]
  },
  {
   "cell_type": "code",
   "execution_count": 12,
   "metadata": {},
   "outputs": [],
   "source": [
    "train <- load_image_file('kuzushiji/train-images-idx3-ubyte')\n",
    "test <- load_image_file('kuzushiji/t10k-images-idx3-ubyte')"
   ]
  },
  {
   "cell_type": "markdown",
   "metadata": {},
   "source": [
    "Loading labels"
   ]
  },
  {
   "cell_type": "code",
   "execution_count": 14,
   "metadata": {},
   "outputs": [],
   "source": [
    "train$y <- load_label_file('kuzushiji/train-labels-idx1-ubyte')\n",
    "test$y <- load_label_file('kuzushiji/t10k-labels-idx1-ubyte') "
   ]
  },
  {
   "cell_type": "markdown",
   "metadata": {},
   "source": [
    "We get the following structure:\n",
    "\n",
    "- train: Training dataset\n",
    "    + x: the predictors, 28x28 pixels image in grayscale.\n",
    "    + y: the response\n",
    "- test: Testing datset (with x and y)\n",
    "\n",
    "We can see the images with the following function:"
   ]
  },
  {
   "cell_type": "code",
   "execution_count": 16,
   "metadata": {},
   "outputs": [
    {
     "name": "stdout",
     "output_type": "stream",
     "text": [
      "List of 3\n",
      " $ n: int 60000\n",
      " $ x: int [1:60000, 1:784] 0 0 0 0 0 0 0 0 0 0 ...\n",
      " $ y: int [1:60000] 8 7 0 1 4 2 4 8 1 1 ...\n"
     ]
    }
   ],
   "source": [
    "str(train)"
   ]
  },
  {
   "cell_type": "markdown",
   "metadata": {},
   "source": [
    "For CNNs we need to have them in 28x28 format instead of an array of 784 pixels"
   ]
  },
  {
   "cell_type": "code",
   "execution_count": 19,
   "metadata": {},
   "outputs": [],
   "source": [
    "dim(train$x) <- c(dim(train$x)[1], 28,28)"
   ]
  },
  {
   "cell_type": "code",
   "execution_count": 21,
   "metadata": {},
   "outputs": [],
   "source": [
    "dim(test$x) <- c(dim(test$x)[1], 28,28)"
   ]
  },
  {
   "cell_type": "markdown",
   "metadata": {},
   "source": [
    "## Response reencode"
   ]
  },
  {
   "cell_type": "markdown",
   "metadata": {},
   "source": [
    "Notice that in y we have an integer from 0 to 9 (10 classes). They are in fact the following:\n",
    "- 0: お - o\n",
    "- 1: き - ki \n",
    "- 2: す - su \n",
    "- 3: つ - tsu\n",
    "- 4: な - na\n",
    "- 5: は - ha\n",
    "- 6: ま - ma\n",
    "- 7: や - ya\n",
    "- 8: れ - re \n",
    "- 9: を - wo\n",
    "\n",
    "We recode the response variable to factor."
   ]
  },
  {
   "cell_type": "code",
   "execution_count": 91,
   "metadata": {},
   "outputs": [],
   "source": [
    "classmap <- read.csv(\"kuzushiji/kmnist_classmap.csv\")"
   ]
  },
  {
   "cell_type": "code",
   "execution_count": 92,
   "metadata": {
    "scrolled": true
   },
   "outputs": [
    {
     "data": {
      "text/html": [
       "<table>\n",
       "<thead><tr><th scope=col>index</th><th scope=col>codepoint</th><th scope=col>char</th><th scope=col>romaji</th></tr></thead>\n",
       "<tbody>\n",
       "\t<tr><td>0     </td><td>U+304A</td><td>お    </td><td>o     </td></tr>\n",
       "\t<tr><td>1     </td><td>U+304D</td><td>き    </td><td>ki    </td></tr>\n",
       "\t<tr><td>2     </td><td>U+3059</td><td>す    </td><td>su    </td></tr>\n",
       "\t<tr><td>3     </td><td>U+3064</td><td>つ    </td><td>tsu   </td></tr>\n",
       "\t<tr><td>4     </td><td>U+306A</td><td>な    </td><td>na    </td></tr>\n",
       "\t<tr><td>5     </td><td>U+306F</td><td>は    </td><td>ha    </td></tr>\n",
       "\t<tr><td>6     </td><td>U+307E</td><td>ま    </td><td>ma    </td></tr>\n",
       "\t<tr><td>7     </td><td>U+3084</td><td>や    </td><td>ya    </td></tr>\n",
       "\t<tr><td>8     </td><td>U+308C</td><td>れ    </td><td>re    </td></tr>\n",
       "\t<tr><td>9     </td><td>U+3092</td><td>を    </td><td>wo    </td></tr>\n",
       "</tbody>\n",
       "</table>\n"
      ],
      "text/latex": [
       "\\begin{tabular}{r|llll}\n",
       " index & codepoint & char & romaji\\\\\n",
       "\\hline\n",
       "\t 0      & U+304A & お     & o     \\\\\n",
       "\t 1      & U+304D & き     & ki    \\\\\n",
       "\t 2      & U+3059 & す     & su    \\\\\n",
       "\t 3      & U+3064 & つ     & tsu   \\\\\n",
       "\t 4      & U+306A & な     & na    \\\\\n",
       "\t 5      & U+306F & は     & ha    \\\\\n",
       "\t 6      & U+307E & ま     & ma    \\\\\n",
       "\t 7      & U+3084 & や     & ya    \\\\\n",
       "\t 8      & U+308C & れ     & re    \\\\\n",
       "\t 9      & U+3092 & を     & wo    \\\\\n",
       "\\end{tabular}\n"
      ],
      "text/markdown": [
       "\n",
       "index | codepoint | char | romaji | \n",
       "|---|---|---|---|---|---|---|---|---|---|\n",
       "| 0      | U+304A | お     | o      | \n",
       "| 1      | U+304D | き     | ki     | \n",
       "| 2      | U+3059 | す     | su     | \n",
       "| 3      | U+3064 | つ     | tsu    | \n",
       "| 4      | U+306A | な     | na     | \n",
       "| 5      | U+306F | は     | ha     | \n",
       "| 6      | U+307E | ま     | ma     | \n",
       "| 7      | U+3084 | や     | ya     | \n",
       "| 8      | U+308C | れ     | re     | \n",
       "| 9      | U+3092 | を     | wo     | \n",
       "\n",
       "\n"
      ],
      "text/plain": [
       "   index codepoint char romaji\n",
       "1  0     U+304A    お   o     \n",
       "2  1     U+304D    き   ki    \n",
       "3  2     U+3059    す   su    \n",
       "4  3     U+3064    つ   tsu   \n",
       "5  4     U+306A    な   na    \n",
       "6  5     U+306F    は   ha    \n",
       "7  6     U+307E    ま   ma    \n",
       "8  7     U+3084    や   ya    \n",
       "9  8     U+308C    れ   re    \n",
       "10 9     U+3092    を   wo    "
      ]
     },
     "metadata": {},
     "output_type": "display_data"
    }
   ],
   "source": [
    "classmap$romaji <- c(\"o\",\"ki\",\"su\",\"tsu\",\"na\",\"ha\",\"ma\",\"ya\",\"re\",\"wo\")\n",
    "classmap"
   ]
  },
  {
   "cell_type": "markdown",
   "metadata": {},
   "source": [
    "We use the romaji codification just to prevent problems with UTF8 characters"
   ]
  },
  {
   "cell_type": "code",
   "execution_count": 93,
   "metadata": {},
   "outputs": [],
   "source": [
    "classString <- classmap$romaji\n",
    "# y+1 because 0 is the first class and in R we start indexing at 1!\n",
    "train$yFactor <- as.factor(classString[train$y+1]) \n",
    "test$yFactor <- as.factor(classString[test$y+1])"
   ]
  },
  {
   "cell_type": "markdown",
   "metadata": {},
   "source": [
    "For the CNN we use one hot encoding to produce a vector of 10 values per sample, with a one on the class (probablity of belonging to a given class)."
   ]
  },
  {
   "cell_type": "code",
   "execution_count": 94,
   "metadata": {},
   "outputs": [],
   "source": [
    "train$yOneHot <- class.ind(train$yFactor)\n",
    "test$yOneHot <- class.ind(test$yFactor)"
   ]
  },
  {
   "cell_type": "markdown",
   "metadata": {},
   "source": [
    "*class.ind* reorders the classes alfabetically, therefore we need to revert this order to the original provided. We use *match* over the column names to get a vector of the reorder to match the column names to **classString**."
   ]
  },
  {
   "cell_type": "code",
   "execution_count": 97,
   "metadata": {},
   "outputs": [
    {
     "data": {
      "text/html": [
       "<ol class=list-inline>\n",
       "\t<li>'ha'</li>\n",
       "\t<li>'ki'</li>\n",
       "\t<li>'ma'</li>\n",
       "\t<li>'na'</li>\n",
       "\t<li>'o'</li>\n",
       "\t<li>'re'</li>\n",
       "\t<li>'su'</li>\n",
       "\t<li>'tsu'</li>\n",
       "\t<li>'wo'</li>\n",
       "\t<li>'ya'</li>\n",
       "</ol>\n"
      ],
      "text/latex": [
       "\\begin{enumerate*}\n",
       "\\item 'ha'\n",
       "\\item 'ki'\n",
       "\\item 'ma'\n",
       "\\item 'na'\n",
       "\\item 'o'\n",
       "\\item 're'\n",
       "\\item 'su'\n",
       "\\item 'tsu'\n",
       "\\item 'wo'\n",
       "\\item 'ya'\n",
       "\\end{enumerate*}\n"
      ],
      "text/markdown": [
       "1. 'ha'\n",
       "2. 'ki'\n",
       "3. 'ma'\n",
       "4. 'na'\n",
       "5. 'o'\n",
       "6. 're'\n",
       "7. 'su'\n",
       "8. 'tsu'\n",
       "9. 'wo'\n",
       "10. 'ya'\n",
       "\n",
       "\n"
      ],
      "text/plain": [
       " [1] \"ha\"  \"ki\"  \"ma\"  \"na\"  \"o\"   \"re\"  \"su\"  \"tsu\" \"wo\"  \"ya\" "
      ]
     },
     "metadata": {},
     "output_type": "display_data"
    },
    {
     "data": {
      "text/html": [
       "<ol class=list-inline>\n",
       "\t<li>'o'</li>\n",
       "\t<li>'ki'</li>\n",
       "\t<li>'su'</li>\n",
       "\t<li>'tsu'</li>\n",
       "\t<li>'na'</li>\n",
       "\t<li>'ha'</li>\n",
       "\t<li>'ma'</li>\n",
       "\t<li>'ya'</li>\n",
       "\t<li>'re'</li>\n",
       "\t<li>'wo'</li>\n",
       "</ol>\n"
      ],
      "text/latex": [
       "\\begin{enumerate*}\n",
       "\\item 'o'\n",
       "\\item 'ki'\n",
       "\\item 'su'\n",
       "\\item 'tsu'\n",
       "\\item 'na'\n",
       "\\item 'ha'\n",
       "\\item 'ma'\n",
       "\\item 'ya'\n",
       "\\item 're'\n",
       "\\item 'wo'\n",
       "\\end{enumerate*}\n"
      ],
      "text/markdown": [
       "1. 'o'\n",
       "2. 'ki'\n",
       "3. 'su'\n",
       "4. 'tsu'\n",
       "5. 'na'\n",
       "6. 'ha'\n",
       "7. 'ma'\n",
       "8. 'ya'\n",
       "9. 're'\n",
       "10. 'wo'\n",
       "\n",
       "\n"
      ],
      "text/plain": [
       " [1] \"o\"   \"ki\"  \"su\"  \"tsu\" \"na\"  \"ha\"  \"ma\"  \"ya\"  \"re\"  \"wo\" "
      ]
     },
     "metadata": {},
     "output_type": "display_data"
    },
    {
     "data": {
      "text/html": [
       "<ol class=list-inline>\n",
       "\t<li>5</li>\n",
       "\t<li>2</li>\n",
       "\t<li>7</li>\n",
       "\t<li>8</li>\n",
       "\t<li>4</li>\n",
       "\t<li>1</li>\n",
       "\t<li>3</li>\n",
       "\t<li>10</li>\n",
       "\t<li>6</li>\n",
       "\t<li>9</li>\n",
       "</ol>\n"
      ],
      "text/latex": [
       "\\begin{enumerate*}\n",
       "\\item 5\n",
       "\\item 2\n",
       "\\item 7\n",
       "\\item 8\n",
       "\\item 4\n",
       "\\item 1\n",
       "\\item 3\n",
       "\\item 10\n",
       "\\item 6\n",
       "\\item 9\n",
       "\\end{enumerate*}\n"
      ],
      "text/markdown": [
       "1. 5\n",
       "2. 2\n",
       "3. 7\n",
       "4. 8\n",
       "5. 4\n",
       "6. 1\n",
       "7. 3\n",
       "8. 10\n",
       "9. 6\n",
       "10. 9\n",
       "\n",
       "\n"
      ],
      "text/plain": [
       " [1]  5  2  7  8  4  1  3 10  6  9"
      ]
     },
     "metadata": {},
     "output_type": "display_data"
    }
   ],
   "source": [
    "colnames(train$yOneHot)\n",
    "classString\n",
    "(m <- match(classString, colnames(test$yOneHot))) "
   ]
  },
  {
   "cell_type": "code",
   "execution_count": 98,
   "metadata": {},
   "outputs": [],
   "source": [
    "train$yOneHot <- train$yOneHot[,m]\n",
    "test$yOneHot <- test$yOneHot[,m]"
   ]
  },
  {
   "cell_type": "markdown",
   "metadata": {},
   "source": [
    "Now the order is correct"
   ]
  },
  {
   "cell_type": "code",
   "execution_count": 99,
   "metadata": {},
   "outputs": [
    {
     "data": {
      "text/html": [
       "<ol class=list-inline>\n",
       "\t<li>'o'</li>\n",
       "\t<li>'ki'</li>\n",
       "\t<li>'su'</li>\n",
       "\t<li>'tsu'</li>\n",
       "\t<li>'na'</li>\n",
       "\t<li>'ha'</li>\n",
       "\t<li>'ma'</li>\n",
       "\t<li>'ya'</li>\n",
       "\t<li>'re'</li>\n",
       "\t<li>'wo'</li>\n",
       "</ol>\n"
      ],
      "text/latex": [
       "\\begin{enumerate*}\n",
       "\\item 'o'\n",
       "\\item 'ki'\n",
       "\\item 'su'\n",
       "\\item 'tsu'\n",
       "\\item 'na'\n",
       "\\item 'ha'\n",
       "\\item 'ma'\n",
       "\\item 'ya'\n",
       "\\item 're'\n",
       "\\item 'wo'\n",
       "\\end{enumerate*}\n"
      ],
      "text/markdown": [
       "1. 'o'\n",
       "2. 'ki'\n",
       "3. 'su'\n",
       "4. 'tsu'\n",
       "5. 'na'\n",
       "6. 'ha'\n",
       "7. 'ma'\n",
       "8. 'ya'\n",
       "9. 're'\n",
       "10. 'wo'\n",
       "\n",
       "\n"
      ],
      "text/plain": [
       " [1] \"o\"   \"ki\"  \"su\"  \"tsu\" \"na\"  \"ha\"  \"ma\"  \"ya\"  \"re\"  \"wo\" "
      ]
     },
     "metadata": {},
     "output_type": "display_data"
    },
    {
     "data": {
      "text/html": [
       "<ol class=list-inline>\n",
       "\t<li>'o'</li>\n",
       "\t<li>'ki'</li>\n",
       "\t<li>'su'</li>\n",
       "\t<li>'tsu'</li>\n",
       "\t<li>'na'</li>\n",
       "\t<li>'ha'</li>\n",
       "\t<li>'ma'</li>\n",
       "\t<li>'ya'</li>\n",
       "\t<li>'re'</li>\n",
       "\t<li>'wo'</li>\n",
       "</ol>\n"
      ],
      "text/latex": [
       "\\begin{enumerate*}\n",
       "\\item 'o'\n",
       "\\item 'ki'\n",
       "\\item 'su'\n",
       "\\item 'tsu'\n",
       "\\item 'na'\n",
       "\\item 'ha'\n",
       "\\item 'ma'\n",
       "\\item 'ya'\n",
       "\\item 're'\n",
       "\\item 'wo'\n",
       "\\end{enumerate*}\n"
      ],
      "text/markdown": [
       "1. 'o'\n",
       "2. 'ki'\n",
       "3. 'su'\n",
       "4. 'tsu'\n",
       "5. 'na'\n",
       "6. 'ha'\n",
       "7. 'ma'\n",
       "8. 'ya'\n",
       "9. 're'\n",
       "10. 'wo'\n",
       "\n",
       "\n"
      ],
      "text/plain": [
       " [1] \"o\"   \"ki\"  \"su\"  \"tsu\" \"na\"  \"ha\"  \"ma\"  \"ya\"  \"re\"  \"wo\" "
      ]
     },
     "metadata": {},
     "output_type": "display_data"
    }
   ],
   "source": [
    "colnames(train$yOneHot)\n",
    "classString"
   ]
  },
  {
   "cell_type": "code",
   "execution_count": 100,
   "metadata": {},
   "outputs": [
    {
     "name": "stdout",
     "output_type": "stream",
     "text": [
      " num [1:60000, 1:10] 0 0 1 0 0 0 0 0 0 0 ...\n",
      " - attr(*, \"dimnames\")=List of 2\n",
      "  ..$ : NULL\n",
      "  ..$ : chr [1:10] \"o\" \"ki\" \"su\" \"tsu\" ...\n"
     ]
    },
    {
     "data": {
      "text/html": [
       "<ol class=list-inline>\n",
       "\t<li>re</li>\n",
       "\t<li>ya</li>\n",
       "\t<li>o</li>\n",
       "\t<li>ki</li>\n",
       "\t<li>na</li>\n",
       "\t<li>su</li>\n",
       "\t<li>na</li>\n",
       "\t<li>re</li>\n",
       "\t<li>ki</li>\n",
       "\t<li>ki</li>\n",
       "</ol>\n",
       "\n",
       "<details>\n",
       "\t<summary style=display:list-item;cursor:pointer>\n",
       "\t\t<strong>Levels</strong>:\n",
       "\t</summary>\n",
       "\t<ol class=list-inline>\n",
       "\t\t<li>'ha'</li>\n",
       "\t\t<li>'ki'</li>\n",
       "\t\t<li>'ma'</li>\n",
       "\t\t<li>'na'</li>\n",
       "\t\t<li>'o'</li>\n",
       "\t\t<li>'re'</li>\n",
       "\t\t<li>'su'</li>\n",
       "\t\t<li>'tsu'</li>\n",
       "\t\t<li>'wo'</li>\n",
       "\t\t<li>'ya'</li>\n",
       "\t</ol>\n",
       "</details>"
      ],
      "text/latex": [
       "\\begin{enumerate*}\n",
       "\\item re\n",
       "\\item ya\n",
       "\\item o\n",
       "\\item ki\n",
       "\\item na\n",
       "\\item su\n",
       "\\item na\n",
       "\\item re\n",
       "\\item ki\n",
       "\\item ki\n",
       "\\end{enumerate*}\n",
       "\n",
       "\\emph{Levels}: \\begin{enumerate*}\n",
       "\\item 'ha'\n",
       "\\item 'ki'\n",
       "\\item 'ma'\n",
       "\\item 'na'\n",
       "\\item 'o'\n",
       "\\item 're'\n",
       "\\item 'su'\n",
       "\\item 'tsu'\n",
       "\\item 'wo'\n",
       "\\item 'ya'\n",
       "\\end{enumerate*}\n"
      ],
      "text/markdown": [
       "1. re\n",
       "2. ya\n",
       "3. o\n",
       "4. ki\n",
       "5. na\n",
       "6. su\n",
       "7. na\n",
       "8. re\n",
       "9. ki\n",
       "10. ki\n",
       "\n",
       "\n",
       "\n",
       "**Levels**: 1. 'ha'\n",
       "2. 'ki'\n",
       "3. 'ma'\n",
       "4. 'na'\n",
       "5. 'o'\n",
       "6. 're'\n",
       "7. 'su'\n",
       "8. 'tsu'\n",
       "9. 'wo'\n",
       "10. 'ya'\n",
       "\n",
       "\n"
      ],
      "text/plain": [
       " [1] re ya o  ki na su na re ki ki\n",
       "Levels: ha ki ma na o re su tsu wo ya"
      ]
     },
     "metadata": {},
     "output_type": "display_data"
    },
    {
     "data": {
      "text/html": [
       "<table>\n",
       "<thead><tr><th scope=col>o</th><th scope=col>ki</th><th scope=col>su</th><th scope=col>tsu</th><th scope=col>na</th><th scope=col>ha</th><th scope=col>ma</th><th scope=col>ya</th><th scope=col>re</th><th scope=col>wo</th></tr></thead>\n",
       "<tbody>\n",
       "\t<tr><td>0</td><td>0</td><td>0</td><td>0</td><td>0</td><td>0</td><td>0</td><td>0</td><td>1</td><td>0</td></tr>\n",
       "\t<tr><td>0</td><td>0</td><td>0</td><td>0</td><td>0</td><td>0</td><td>0</td><td>1</td><td>0</td><td>0</td></tr>\n",
       "\t<tr><td>1</td><td>0</td><td>0</td><td>0</td><td>0</td><td>0</td><td>0</td><td>0</td><td>0</td><td>0</td></tr>\n",
       "\t<tr><td>0</td><td>1</td><td>0</td><td>0</td><td>0</td><td>0</td><td>0</td><td>0</td><td>0</td><td>0</td></tr>\n",
       "\t<tr><td>0</td><td>0</td><td>0</td><td>0</td><td>1</td><td>0</td><td>0</td><td>0</td><td>0</td><td>0</td></tr>\n",
       "\t<tr><td>0</td><td>0</td><td>1</td><td>0</td><td>0</td><td>0</td><td>0</td><td>0</td><td>0</td><td>0</td></tr>\n",
       "\t<tr><td>0</td><td>0</td><td>0</td><td>0</td><td>1</td><td>0</td><td>0</td><td>0</td><td>0</td><td>0</td></tr>\n",
       "\t<tr><td>0</td><td>0</td><td>0</td><td>0</td><td>0</td><td>0</td><td>0</td><td>0</td><td>1</td><td>0</td></tr>\n",
       "\t<tr><td>0</td><td>1</td><td>0</td><td>0</td><td>0</td><td>0</td><td>0</td><td>0</td><td>0</td><td>0</td></tr>\n",
       "\t<tr><td>0</td><td>1</td><td>0</td><td>0</td><td>0</td><td>0</td><td>0</td><td>0</td><td>0</td><td>0</td></tr>\n",
       "</tbody>\n",
       "</table>\n"
      ],
      "text/latex": [
       "\\begin{tabular}{llllllllll}\n",
       " o & ki & su & tsu & na & ha & ma & ya & re & wo\\\\\n",
       "\\hline\n",
       "\t 0 & 0 & 0 & 0 & 0 & 0 & 0 & 0 & 1 & 0\\\\\n",
       "\t 0 & 0 & 0 & 0 & 0 & 0 & 0 & 1 & 0 & 0\\\\\n",
       "\t 1 & 0 & 0 & 0 & 0 & 0 & 0 & 0 & 0 & 0\\\\\n",
       "\t 0 & 1 & 0 & 0 & 0 & 0 & 0 & 0 & 0 & 0\\\\\n",
       "\t 0 & 0 & 0 & 0 & 1 & 0 & 0 & 0 & 0 & 0\\\\\n",
       "\t 0 & 0 & 1 & 0 & 0 & 0 & 0 & 0 & 0 & 0\\\\\n",
       "\t 0 & 0 & 0 & 0 & 1 & 0 & 0 & 0 & 0 & 0\\\\\n",
       "\t 0 & 0 & 0 & 0 & 0 & 0 & 0 & 0 & 1 & 0\\\\\n",
       "\t 0 & 1 & 0 & 0 & 0 & 0 & 0 & 0 & 0 & 0\\\\\n",
       "\t 0 & 1 & 0 & 0 & 0 & 0 & 0 & 0 & 0 & 0\\\\\n",
       "\\end{tabular}\n"
      ],
      "text/markdown": [
       "\n",
       "o | ki | su | tsu | na | ha | ma | ya | re | wo | \n",
       "|---|---|---|---|---|---|---|---|---|---|\n",
       "| 0 | 0 | 0 | 0 | 0 | 0 | 0 | 0 | 1 | 0 | \n",
       "| 0 | 0 | 0 | 0 | 0 | 0 | 0 | 1 | 0 | 0 | \n",
       "| 1 | 0 | 0 | 0 | 0 | 0 | 0 | 0 | 0 | 0 | \n",
       "| 0 | 1 | 0 | 0 | 0 | 0 | 0 | 0 | 0 | 0 | \n",
       "| 0 | 0 | 0 | 0 | 1 | 0 | 0 | 0 | 0 | 0 | \n",
       "| 0 | 0 | 1 | 0 | 0 | 0 | 0 | 0 | 0 | 0 | \n",
       "| 0 | 0 | 0 | 0 | 1 | 0 | 0 | 0 | 0 | 0 | \n",
       "| 0 | 0 | 0 | 0 | 0 | 0 | 0 | 0 | 1 | 0 | \n",
       "| 0 | 1 | 0 | 0 | 0 | 0 | 0 | 0 | 0 | 0 | \n",
       "| 0 | 1 | 0 | 0 | 0 | 0 | 0 | 0 | 0 | 0 | \n",
       "\n",
       "\n"
      ],
      "text/plain": [
       "      o ki su tsu na ha ma ya re wo\n",
       " [1,] 0 0  0  0   0  0  0  0  1  0 \n",
       " [2,] 0 0  0  0   0  0  0  1  0  0 \n",
       " [3,] 1 0  0  0   0  0  0  0  0  0 \n",
       " [4,] 0 1  0  0   0  0  0  0  0  0 \n",
       " [5,] 0 0  0  0   1  0  0  0  0  0 \n",
       " [6,] 0 0  1  0   0  0  0  0  0  0 \n",
       " [7,] 0 0  0  0   1  0  0  0  0  0 \n",
       " [8,] 0 0  0  0   0  0  0  0  1  0 \n",
       " [9,] 0 1  0  0   0  0  0  0  0  0 \n",
       "[10,] 0 1  0  0   0  0  0  0  0  0 "
      ]
     },
     "metadata": {},
     "output_type": "display_data"
    }
   ],
   "source": [
    "str(train$yOneHot)\n",
    "train$yFactor[1:10]\n",
    "train$yOneHot[1:10,]"
   ]
  },
  {
   "cell_type": "markdown",
   "metadata": {},
   "source": [
    "## Add missing dimension"
   ]
  },
  {
   "cell_type": "markdown",
   "metadata": {},
   "source": [
    "Convolutional layers will expect the input to have 4 dimensions:\n",
    "- Sample dimension\n",
    "- Height dimension\n",
    "- Width dimension\n",
    "- Channel dimension\n",
    "\n",
    "In our case we have only one channel as the image is grayscale. If it's a color image we would have 3 or 4 channels (Red, Green, Blue and Alpha (transparency)). We need to add the missing dimension, however this will not modify the data. "
   ]
  },
  {
   "cell_type": "code",
   "execution_count": 101,
   "metadata": {},
   "outputs": [],
   "source": [
    "dim(train$x) <- c(dim(train$x),1)\n",
    "dim(test$x) <- c(dim(test$x),1)"
   ]
  },
  {
   "cell_type": "markdown",
   "metadata": {},
   "source": [
    "## dataset visualization"
   ]
  },
  {
   "cell_type": "markdown",
   "metadata": {},
   "source": [
    "By the dataset organization, the elements are inverted. Just for display we flip them using `lim = rev(range(0,1))`"
   ]
  },
  {
   "cell_type": "code",
   "execution_count": 141,
   "metadata": {},
   "outputs": [],
   "source": [
    "rotate <- function(x) apply(x, 2, rev)\n",
    "show_image <- function(imgarray, col=gray(12:1/12), ...) {\n",
    "  image((matrix(imgarray, nrow=28)), col=col, ylim = rev(range(0,1)), ...)\n",
    "}"
   ]
  },
  {
   "cell_type": "code",
   "execution_count": 149,
   "metadata": {
    "scrolled": false
   },
   "outputs": [
    {
     "data": {
      "text/html": [
       "ha\n",
       "<details>\n",
       "\t<summary style=display:list-item;cursor:pointer>\n",
       "\t\t<strong>Levels</strong>:\n",
       "\t</summary>\n",
       "\t<ol class=list-inline>\n",
       "\t\t<li>'ha'</li>\n",
       "\t\t<li>'ki'</li>\n",
       "\t\t<li>'ma'</li>\n",
       "\t\t<li>'na'</li>\n",
       "\t\t<li>'o'</li>\n",
       "\t\t<li>'re'</li>\n",
       "\t\t<li>'su'</li>\n",
       "\t\t<li>'tsu'</li>\n",
       "\t\t<li>'wo'</li>\n",
       "\t\t<li>'ya'</li>\n",
       "\t</ol>\n",
       "</details>"
      ],
      "text/latex": [
       "ha\n",
       "\\emph{Levels}: \\begin{enumerate*}\n",
       "\\item 'ha'\n",
       "\\item 'ki'\n",
       "\\item 'ma'\n",
       "\\item 'na'\n",
       "\\item 'o'\n",
       "\\item 're'\n",
       "\\item 'su'\n",
       "\\item 'tsu'\n",
       "\\item 'wo'\n",
       "\\item 'ya'\n",
       "\\end{enumerate*}\n"
      ],
      "text/markdown": [
       "ha\n",
       "**Levels**: 1. 'ha'\n",
       "2. 'ki'\n",
       "3. 'ma'\n",
       "4. 'na'\n",
       "5. 'o'\n",
       "6. 're'\n",
       "7. 'su'\n",
       "8. 'tsu'\n",
       "9. 'wo'\n",
       "10. 'ya'\n",
       "\n",
       "\n"
      ],
      "text/plain": [
       "[1] ha\n",
       "Levels: ha ki ma na o re su tsu wo ya"
      ]
     },
     "metadata": {},
     "output_type": "display_data"
    },
    {
     "data": {
      "image/png": "[encoded data removed]",
      "text/plain": [
       "plot without title"
      ]
     },
     "metadata": {},
     "output_type": "display_data"
    },
    {
     "data": {
      "text/html": [
       "tsu\n",
       "<details>\n",
       "\t<summary style=display:list-item;cursor:pointer>\n",
       "\t\t<strong>Levels</strong>:\n",
       "\t</summary>\n",
       "\t<ol class=list-inline>\n",
       "\t\t<li>'ha'</li>\n",
       "\t\t<li>'ki'</li>\n",
       "\t\t<li>'ma'</li>\n",
       "\t\t<li>'na'</li>\n",
       "\t\t<li>'o'</li>\n",
       "\t\t<li>'re'</li>\n",
       "\t\t<li>'su'</li>\n",
       "\t\t<li>'tsu'</li>\n",
       "\t\t<li>'wo'</li>\n",
       "\t\t<li>'ya'</li>\n",
       "\t</ol>\n",
       "</details>"
      ],
      "text/latex": [
       "tsu\n",
       "\\emph{Levels}: \\begin{enumerate*}\n",
       "\\item 'ha'\n",
       "\\item 'ki'\n",
       "\\item 'ma'\n",
       "\\item 'na'\n",
       "\\item 'o'\n",
       "\\item 're'\n",
       "\\item 'su'\n",
       "\\item 'tsu'\n",
       "\\item 'wo'\n",
       "\\item 'ya'\n",
       "\\end{enumerate*}\n"
      ],
      "text/markdown": [
       "tsu\n",
       "**Levels**: 1. 'ha'\n",
       "2. 'ki'\n",
       "3. 'ma'\n",
       "4. 'na'\n",
       "5. 'o'\n",
       "6. 're'\n",
       "7. 'su'\n",
       "8. 'tsu'\n",
       "9. 'wo'\n",
       "10. 'ya'\n",
       "\n",
       "\n"
      ],
      "text/plain": [
       "[1] tsu\n",
       "Levels: ha ki ma na o re su tsu wo ya"
      ]
     },
     "metadata": {},
     "output_type": "display_data"
    },
    {
     "data": {
      "image/png": "[encoded data removed]",
      "text/plain": [
       "plot without title"
      ]
     },
     "metadata": {},
     "output_type": "display_data"
    }
   ],
   "source": [
    "show_image(train$x[14,,,])\n",
    "train$yFactor[14] # This ha is katakana! ハ\n",
    "show_image(train$x[416,,,])\n",
    "train$yFactor[416]"
   ]
  },
  {
   "cell_type": "markdown",
   "metadata": {},
   "source": [
    "## Create a dataset for nnet"
   ]
  },
  {
   "cell_type": "markdown",
   "metadata": {},
   "source": [
    "Now we prepare join the X and the Y in a data.frame."
   ]
  },
  {
   "cell_type": "code",
   "execution_count": 150,
   "metadata": {},
   "outputs": [],
   "source": [
    "nnetData <- data.frame(train$x, class=train$yFactor)"
   ]
  },
  {
   "cell_type": "code",
   "execution_count": 196,
   "metadata": {},
   "outputs": [],
   "source": [
    "nnetDataTest <- data.frame(test$x, class=test$yFactor)"
   ]
  },
  {
   "cell_type": "markdown",
   "metadata": {},
   "source": [
    "# Your code should be here"
   ]
  }
 ],
 "metadata": {
  "jupytext": {
   "formats": "ipynb,Rmd:rmarkdown, R",
   "text_representation": {
    "extension": ".Rmd",
    "format_name": "rmarkdown",
    "format_version": "1.0",
    "jupytext_version": "0.8.5"
   }
  },
  "kernelspec": {
   "display_name": "R",
   "language": "R",
   "name": "ir"
  },
  "language_info": {
   "codemirror_mode": "r",
   "file_extension": ".r",
   "mimetype": "text/x-r-source",
   "name": "R",
   "pygments_lexer": "r",
   "version": "3.5.1"
  },
  "toc": {
   "colors": {
    "hover_highlight": "#DAA520",
    "running_highlight": "#FF0000",
    "selected_highlight": "#FFD700"
   },
   "moveMenuLeft": true,
   "nav_menu": {
    "height": "209.667px",
    "width": "252px"
   },
   "navigate_menu": true,
   "number_sections": true,
   "sideBar": true,
   "threshold": 4,
   "toc_cell": false,
   "toc_position": {
    "height": "822px",
    "left": "0px",
    "right": "689.767px",
    "top": "141px",
    "width": "268.233px"
   },
   "toc_section_display": "block",
   "toc_window_display": true,
   "widenNotebook": false
  }
 },
 "nbformat": 4,
 "nbformat_minor": 2
}
